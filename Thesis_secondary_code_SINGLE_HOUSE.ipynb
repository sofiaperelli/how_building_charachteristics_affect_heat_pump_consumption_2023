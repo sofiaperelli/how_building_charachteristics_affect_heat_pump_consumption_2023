{
 "cells": [
  {
   "cell_type": "code",
   "execution_count": null,
   "id": "51586437",
   "metadata": {},
   "outputs": [],
   "source": [
    "# Add heat amount that was dedicated to space or water heating\n",
    "# Average that over the year and seasons, and then over all houses"
   ]
  },
  {
   "cell_type": "code",
   "execution_count": 88,
   "id": "20240222",
   "metadata": {},
   "outputs": [],
   "source": [
    "import pandas as pd\n",
    "import matplotlib.pyplot as plt\n",
    "import matplotlib.dates as mdates\n",
    "import numpy as np\n",
    "import warnings\n",
    "import re\n",
    "import os\n",
    "from os import listdir\n",
    "from os.path import isfile, join\n",
    "warnings.filterwarnings(\"ignore\")\n",
    "import datetime\n"
   ]
  },
  {
   "cell_type": "code",
   "execution_count": 105,
   "id": "c7953fe0",
   "metadata": {},
   "outputs": [],
   "source": [
    "# Read the files and sort the data in dataframes \n",
    "raw_path = '/Users/sofiaperelli-rocco/Desktop/UK_EoH_2020-2022/'\n",
    "properties_path = raw_path + '9050_csv_united_cleansed_data/'\n",
    "csv_file_path_ID = properties_path + 'Property_ID=EOH1664.csv' # Upload 2min data of the selected house - EOH0003, EOH0018 (boiler), EOH0021, EOH0026, EOH0031, EOH0184, EOH1664 or EOH3107 (no output from CD code?)\n",
    "property_df = pd.read_csv(csv_file_path_ID) \n",
    "all_performance_df = pd.read_csv(raw_path + \"heat_pump_performance_summary_v1-0.csv\") \n",
    "csv_file_path_info = \"BEIS Electrification of Heat Project - Property, Design and Installation Information.csv\"\n",
    "properties_info_df = pd.read_csv(raw_path + csv_file_path_info)\n"
   ]
  },
  {
   "cell_type": "code",
   "execution_count": 106,
   "id": "6127cd52",
   "metadata": {},
   "outputs": [],
   "source": [
    "# Identify the names of columns of data that are taken in a cumulative way\n",
    "columns_to_diff = ['Circulation_Pump_Energy_Consumed', 'Heat_Pump_Energy_Output','Boiler_Energy_Output',\n",
    "                   'Immersion_Heater_Energy_Consumed', 'Whole_System_Energy_Consumed', 'Back-up_Heater_Energy_Consumed', 'HP_Consumption']\n",
    "\n",
    "# Identigy the names of clumns that we want the mean of, to then group them at the same time of the day \n",
    "columns_to_mean = ['delta_Circulation_Pump_Energy_Consumed', 'External_Air_Temperature', 'delta_Heat_Pump_Energy_Output',\n",
    "                   'Heat_Pump_Heating_Flow_Temperature', 'Heat_Pump_Return_Temperature', 'Hot_Water_Flow_Temperature',\n",
    "                   'delta_Immersion_Heater_Energy_Consumed', 'Internal_Air_Temperature', 'delta_Whole_System_Energy_Consumed',\n",
    "                  'delta_Boiler_Energy_Output', 'delta_Back-up_Heater_Energy_Consumed', 'delta_HP_Consumption'] \n",
    "\n",
    "# Identify the names of columns that we need to subtract to obtain the heat pump only power\n",
    "keys_to_subtract_for_HP_energy= ['Back-up_Heater_Energy_Consumed', 'Immersion_Heater_Energy_Consumed', 'Circulation_Pump_Energy_Consumed']\n",
    "\n",
    "# Identify columns needed for COP and SPFHn calculations\n",
    "columns_SPFn = ['Circulation_Pump_Energy_Consumed', 'Immersion_Heater_Energy_Consumed', 'Back-up_Heater_Energy_Consumed', 'HP_Consumption', 'Heat_Pump_Energy_Output']\n",
    "columns_SPFn_inst = ['delta_Circulation_Pump_Energy_Consumed', 'delta_Immersion_Heater_Energy_Consumed', 'delta_Back-up_Heater_Energy_Consumed', 'delta_HP_Consumption', 'delta_Heat_Pump_Energy_Output']\n"
   ]
  },
  {
   "cell_type": "code",
   "execution_count": 107,
   "id": "3d11b7bd",
   "metadata": {},
   "outputs": [],
   "source": [
    "def fill_cumulative_data(df):\n",
    "    col_fill = [col for col in columns_to_diff if col != 'HP_Consumption']\n",
    "    df_copy = df.copy()\n",
    "\n",
    "    for col in col_fill:\n",
    "        if col not in df_copy:\n",
    "            df_copy[col] = np.nan\n",
    "\n",
    "    for col in col_fill:\n",
    "        forward_filled = df_copy[col].ffill()\n",
    "        backward_filled = df_copy[col].bfill()\n",
    "        match_mask = (forward_filled == backward_filled)\n",
    "        df_copy[col] = df_copy[col].mask(match_mask, forward_filled)\n",
    "\n",
    "    for key in df_copy.keys():\n",
    "        if key not in df.keys():\n",
    "            df_copy.drop(key, axis=1, inplace=True)\n",
    "    return(df_copy)"
   ]
  },
  {
   "cell_type": "code",
   "execution_count": 108,
   "id": "7acbe6ab",
   "metadata": {},
   "outputs": [],
   "source": [
    "def get_SPFn(df):\n",
    "    window_df_copy = df.copy()\n",
    "    \n",
    "    for column in columns_SPFn:\n",
    "        if column not in window_df_copy.columns:\n",
    "            window_df_copy[column] = 0\n",
    "\n",
    "    valid_rows = window_df_copy.loc[(~window_df_copy['Heat_Pump_Energy_Output'].isnull()) &\n",
    "                                    (~window_df_copy['HP_Consumption'].isnull()) &\n",
    "                                    (~window_df_copy['Immersion_Heater_Energy_Consumed'].isnull()) &\n",
    "                                    (~window_df_copy['Back-up_Heater_Energy_Consumed'].isnull()) &\n",
    "                                    (~window_df_copy['Circulation_Pump_Energy_Consumed'].isnull())]\n",
    "\n",
    "    if len(valid_rows) == 0:\n",
    "        return float('nan'), float('nan'), float('nan')\n",
    "\n",
    "    first_valid_row = valid_rows.iloc[0]\n",
    "    last_valid_row = valid_rows.iloc[-1]\n",
    "\n",
    "    initial_Heat_Pump_Energy_Output = first_valid_row['Heat_Pump_Energy_Output']\n",
    "    final_Heat_Pump_Energy_Output = last_valid_row['Heat_Pump_Energy_Output']\n",
    "    initial_HP_Consumption = first_valid_row['HP_Consumption']\n",
    "    final_HP_Consumption = last_valid_row['HP_Consumption']\n",
    "    initial_Immersion_Heater_Energy_Consumed = first_valid_row['Immersion_Heater_Energy_Consumed']\n",
    "    final_Immersion_Heater_Energy_Consumed = last_valid_row['Immersion_Heater_Energy_Consumed']\n",
    "    initial_Circulation_Pump_Energy_Consumed = first_valid_row['Circulation_Pump_Energy_Consumed']\n",
    "    final_Circulation_Pump_Energy_Consumed = last_valid_row['Circulation_Pump_Energy_Consumed']\n",
    "    initial_Back_up_Heater_Energy_Consumed = first_valid_row['Back-up_Heater_Energy_Consumed']\n",
    "    final_Back_up_Heater_Energy_Consumed = last_valid_row['Back-up_Heater_Energy_Consumed']\n",
    "\n",
    "    avg_SPFH2 = (final_Heat_Pump_Energy_Output - initial_Heat_Pump_Energy_Output) / (\n",
    "                final_HP_Consumption - initial_HP_Consumption) if (\n",
    "                final_HP_Consumption - initial_HP_Consumption) != 0 else float('nan')\n",
    "    avg_SPFH3 = (final_Heat_Pump_Energy_Output - initial_Heat_Pump_Energy_Output) / (\n",
    "                (final_HP_Consumption - initial_HP_Consumption) +\n",
    "                (final_Immersion_Heater_Energy_Consumed - initial_Immersion_Heater_Energy_Consumed) +\n",
    "                (final_Back_up_Heater_Energy_Consumed - initial_Back_up_Heater_Energy_Consumed)) if (\n",
    "                (final_HP_Consumption - initial_HP_Consumption) +\n",
    "                (final_Immersion_Heater_Energy_Consumed - initial_Immersion_Heater_Energy_Consumed) +\n",
    "                (final_Back_up_Heater_Energy_Consumed - initial_Back_up_Heater_Energy_Consumed)) != 0 else float('nan')\n",
    "    avg_SPFH4 = (final_Heat_Pump_Energy_Output - initial_Heat_Pump_Energy_Output) / (\n",
    "                (final_HP_Consumption - initial_HP_Consumption) +\n",
    "                (final_Immersion_Heater_Energy_Consumed - initial_Immersion_Heater_Energy_Consumed) +\n",
    "                (final_Back_up_Heater_Energy_Consumed - initial_Back_up_Heater_Energy_Consumed) +\n",
    "                (final_Circulation_Pump_Energy_Consumed - initial_Circulation_Pump_Energy_Consumed)) if (\n",
    "                (final_HP_Consumption - initial_HP_Consumption) +\n",
    "                (final_Immersion_Heater_Energy_Consumed - initial_Immersion_Heater_Energy_Consumed) +\n",
    "                (final_Back_up_Heater_Energy_Consumed - initial_Back_up_Heater_Energy_Consumed) +\n",
    "                (final_Circulation_Pump_Energy_Consumed - initial_Circulation_Pump_Energy_Consumed)) != 0 else float('nan')\n",
    "\n",
    "    return avg_SPFH2, avg_SPFH3, avg_SPFH4\n"
   ]
  },
  {
   "cell_type": "code",
   "execution_count": 109,
   "id": "cf22ae81",
   "metadata": {},
   "outputs": [],
   "source": [
    "def get_period_consumption(window_df):\n",
    "    result = {}\n",
    "    \n",
    "    for column in columns_to_diff:\n",
    "        if column in window_df.columns:\n",
    "            column_data = window_df[column].dropna()\n",
    "            if len(column_data) > 0:\n",
    "                result['Property_ID'] = property_ID\n",
    "                result[column] = column_data.iloc[-1] - column_data.iloc[0]\n",
    "            else:\n",
    "                result[column] = np.nan\n",
    "    \n",
    "    return result\n"
   ]
  },
  {
   "cell_type": "code",
   "execution_count": 110,
   "id": "c641d449",
   "metadata": {},
   "outputs": [],
   "source": [
    "def get_inst_SPFHn(df):\n",
    "    df_copy = df.copy()\n",
    "    \n",
    "    for column in columns_SPFn_inst: \n",
    "        if column not in df_copy.columns:\n",
    "            df_copy[column] = 0\n",
    "            \n",
    "    df['SPFH2_instantaneous'] = np.where( (df_copy['delta_HP_Consumption'] > 0),\n",
    "                                         df_copy['delta_Heat_Pump_Energy_Output'] / df_copy['delta_HP_Consumption'], np.nan) \n",
    "    \n",
    "    df['SPFH3_instantaneous'] = np.where( (df_copy['delta_HP_Consumption'] > 0), \n",
    "                                         df_copy['delta_Heat_Pump_Energy_Output'] / (df_copy['delta_HP_Consumption'] + df_copy['delta_Immersion_Heater_Energy_Consumed'] + df_copy['delta_Back-up_Heater_Energy_Consumed']), np.nan) \n",
    "\n",
    "    df['SPFH4_instantaneous'] = np.where( (df_copy['delta_HP_Consumption'] > 0), \n",
    "                                         df_copy['delta_Heat_Pump_Energy_Output'] / (df_copy['delta_HP_Consumption'] + df_copy['delta_Immersion_Heater_Energy_Consumed'] + df_copy['delta_Back-up_Heater_Energy_Consumed'] + df_copy['delta_Circulation_Pump_Energy_Consumed']), np.nan)      \n",
    "    \n",
    "    return df\n",
    "    "
   ]
  },
  {
   "cell_type": "code",
   "execution_count": 111,
   "id": "07e820e4",
   "metadata": {},
   "outputs": [],
   "source": [
    "def get_house_info(mean_df, property_ID, merged_df, avg_SPFH2, avg_SPFH3, avg_SPFH4):\n",
    "    mean_df['Property_ID'] = property_ID\n",
    "    mean_df['House_SAP'] = merged_df['House_SAP'].iloc[0]\n",
    "    mean_df['MCS_SHLoad'] = merged_df['MCS_SHLoad'].iloc[0] #NEW\n",
    "    mean_df['MCS_Hloss'] = merged_df['MCS_Hloss'].iloc[0]\n",
    "    mean_df['Total_Floor_Area'] = merged_df['Total_Floor_Area'].iloc[0]\n",
    "    mean_df['MCS_tot_Hloss_kW'] = ( round((mean_df['MCS_Hloss']*mean_df['Total_Floor_Area'])/1000 ,5)) # NEW\n",
    "    mean_df['HP_Installed'] = merged_df['HP_Installed'].iloc[0]\n",
    "    mean_df['SPFH2'] = avg_SPFH2\n",
    "    mean_df['SPFH3'] = avg_SPFH3\n",
    "    mean_df['SPFH4'] = avg_SPFH4\n",
    "    \n",
    "    return(mean_df)"
   ]
  },
  {
   "cell_type": "code",
   "execution_count": 112,
   "id": "9bae647b",
   "metadata": {},
   "outputs": [],
   "source": [
    "def extract_SPFn(df):\n",
    "    SPFH2_all = []\n",
    "    SPFH3_all = []\n",
    "    SPFH4_all = []\n",
    "    for i in df['Property_ID'].unique():\n",
    "        filter_df = df[df['Property_ID'] == i]\n",
    "        SPFH2 = filter_df['SPFH2'].iloc[0]\n",
    "        SPFH3 = filter_df['SPFH3'].iloc[0]\n",
    "        SPFH4 = filter_df['SPFH4'].iloc[0]\n",
    "        SPFH2_all.append(SPFH2)\n",
    "        SPFH3_all.append(SPFH3)\n",
    "        SPFH4_all.append(SPFH4)\n",
    "    SPFH2_mean = np.array(SPFH2_all).mean()\n",
    "    SPFH3_mean = np.array(SPFH3_all).mean()\n",
    "    SPFH4_mean = np.array(SPFH4_all).mean()\n",
    "    \n",
    "    return SPFH2_mean, SPFH3_mean, SPFH4_mean"
   ]
  },
  {
   "cell_type": "code",
   "execution_count": 113,
   "id": "2f4e65db",
   "metadata": {},
   "outputs": [],
   "source": [
    "def get_6pm_CD_temp(cold_window, no6pm_count):\n",
    "    cold_window['Timestamp']=pd.to_datetime(cold_window['Timestamp'],format='%Y-%m-%d %H:%M:%S' )\n",
    "    filtered_rows = cold_window[cold_window['Timestamp'].dt.strftime('%H:%M') == '18:00']\n",
    "    if not filtered_rows.empty:\n",
    "        temperature_value = filtered_rows['Internal_Air_Temperature'].iloc[0]\n",
    "        cold_window['CD_six_pm_temp'] = temperature_value\n",
    "    else:\n",
    "        cold_window['CD_six_pm_temp'] = None # Handle the case when no rows match the condition - count!\n",
    "        no6pm_count +=1\n",
    "    return(cold_window, no6pm_count)"
   ]
  },
  {
   "cell_type": "markdown",
   "id": "3e90b6b2",
   "metadata": {},
   "source": [
    "# 1. Convert clean and select the relevant data"
   ]
  },
  {
   "cell_type": "code",
   "execution_count": 114,
   "id": "f53d4635",
   "metadata": {},
   "outputs": [],
   "source": [
    "# Find the name of the house you are analysing, open its raw data file and extract its information from performance and survey files \n",
    "property_df['Property_ID'] = csv_file_path_ID.split(\"=\",1)[1][:7]\n",
    "property_ID = property_df['Property_ID'][1]\n",
    "property_performance = all_performance_df[all_performance_df['Property_ID'] == property_ID]\n",
    "merged_df = properties_info_df.merge(property_performance, on='Property_ID', how='inner')\n",
    "HP_size = merged_df['HP_Size_kW'][0] \n",
    "#property_performance\n"
   ]
  },
  {
   "cell_type": "code",
   "execution_count": 115,
   "id": "c54748e1",
   "metadata": {},
   "outputs": [],
   "source": [
    "# Check if it works on house EOH0003, at day 2022/05/27 from 22.24 to 23:58 [around row index 285500]\n",
    "property_df = fill_cumulative_data(property_df)\n"
   ]
  },
  {
   "cell_type": "code",
   "execution_count": 116,
   "id": "d1ecb0c0",
   "metadata": {},
   "outputs": [],
   "source": [
    "# Convert to datetime and calculate the difference between each data point time in seconds, in the file with row property data\n",
    "property_df['Timestamp'] = pd.to_datetime(property_df['Timestamp'], format='%Y-%m-%d %H:%M:%S')\n",
    "property_df['Date'] = property_df['Timestamp'].dt.date\n",
    "property_df['Time'] = property_df['Timestamp'].dt.time\n",
    "property_df['time_diff_seconds'] = property_df['Timestamp'].diff().dt.total_seconds()\n"
   ]
  },
  {
   "cell_type": "code",
   "execution_count": 117,
   "id": "534268af",
   "metadata": {},
   "outputs": [],
   "source": [
    "# Create a new column to mark the actual HP consumption, by subtracting from the whole system consumptions the other columns\n",
    "property_df['HP_Consumption'] = property_df['Whole_System_Energy_Consumed']\n",
    "for key in keys_to_subtract_for_HP_energy:\n",
    "    if key in property_df.keys():\n",
    "        property_df['HP_Consumption'] -= property_df[key]  \n",
    "     "
   ]
  },
  {
   "cell_type": "code",
   "execution_count": 118,
   "id": "36e7d84a",
   "metadata": {},
   "outputs": [],
   "source": [
    "# Convert cumulative energy values to avarage power based on the energy and time value of the previous data point\n",
    "for column in columns_to_diff:\n",
    "           if column in property_df.keys():\n",
    "                new_col_name = f\"delta_{column}\"\n",
    "                property_df[new_col_name] = (property_df[column].diff() * 3600 /property_df['time_diff_seconds'])\n",
    "                "
   ]
  },
  {
   "cell_type": "code",
   "execution_count": 130,
   "id": "f194a7ae",
   "metadata": {},
   "outputs": [
    {
     "ename": "KeyError",
     "evalue": "'Hot_Water_Flow_Temperature'",
     "output_type": "error",
     "traceback": [
      "\u001b[0;31m---------------------------------------------------------------------------\u001b[0m",
      "\u001b[0;31mKeyError\u001b[0m                                  Traceback (most recent call last)",
      "File \u001b[0;32m~/opt/anaconda3/lib/python3.9/site-packages/pandas/core/indexes/base.py:3621\u001b[0m, in \u001b[0;36mIndex.get_loc\u001b[0;34m(self, key, method, tolerance)\u001b[0m\n\u001b[1;32m   3620\u001b[0m \u001b[38;5;28;01mtry\u001b[39;00m:\n\u001b[0;32m-> 3621\u001b[0m     \u001b[38;5;28;01mreturn\u001b[39;00m \u001b[38;5;28;43mself\u001b[39;49m\u001b[38;5;241;43m.\u001b[39;49m\u001b[43m_engine\u001b[49m\u001b[38;5;241;43m.\u001b[39;49m\u001b[43mget_loc\u001b[49m\u001b[43m(\u001b[49m\u001b[43mcasted_key\u001b[49m\u001b[43m)\u001b[49m\n\u001b[1;32m   3622\u001b[0m \u001b[38;5;28;01mexcept\u001b[39;00m \u001b[38;5;167;01mKeyError\u001b[39;00m \u001b[38;5;28;01mas\u001b[39;00m err:\n",
      "File \u001b[0;32m~/opt/anaconda3/lib/python3.9/site-packages/pandas/_libs/index.pyx:136\u001b[0m, in \u001b[0;36mpandas._libs.index.IndexEngine.get_loc\u001b[0;34m()\u001b[0m\n",
      "File \u001b[0;32m~/opt/anaconda3/lib/python3.9/site-packages/pandas/_libs/index.pyx:163\u001b[0m, in \u001b[0;36mpandas._libs.index.IndexEngine.get_loc\u001b[0;34m()\u001b[0m\n",
      "File \u001b[0;32mpandas/_libs/hashtable_class_helper.pxi:5198\u001b[0m, in \u001b[0;36mpandas._libs.hashtable.PyObjectHashTable.get_item\u001b[0;34m()\u001b[0m\n",
      "File \u001b[0;32mpandas/_libs/hashtable_class_helper.pxi:5206\u001b[0m, in \u001b[0;36mpandas._libs.hashtable.PyObjectHashTable.get_item\u001b[0;34m()\u001b[0m\n",
      "\u001b[0;31mKeyError\u001b[0m: 'Hot_Water_Flow_Temperature'",
      "\nThe above exception was the direct cause of the following exception:\n",
      "\u001b[0;31mKeyError\u001b[0m                                  Traceback (most recent call last)",
      "Input \u001b[0;32mIn [130]\u001b[0m, in \u001b[0;36m<cell line: 2>\u001b[0;34m()\u001b[0m\n\u001b[1;32m      1\u001b[0m \u001b[38;5;66;03m# Count rows where both DHW and SH temperature columns are NaN\u001b[39;00m\n\u001b[0;32m----> 2\u001b[0m both_nan_count \u001b[38;5;241m=\u001b[39m ((property_df[\u001b[38;5;124m'\u001b[39m\u001b[38;5;124mHeat_Pump_Heating_Flow_Temperature\u001b[39m\u001b[38;5;124m'\u001b[39m]\u001b[38;5;241m.\u001b[39misna()) \u001b[38;5;241m&\u001b[39m (\u001b[43mproperty_df\u001b[49m\u001b[43m[\u001b[49m\u001b[38;5;124;43m'\u001b[39;49m\u001b[38;5;124;43mHot_Water_Flow_Temperature\u001b[39;49m\u001b[38;5;124;43m'\u001b[39;49m\u001b[43m]\u001b[49m\u001b[38;5;241m.\u001b[39misna()))\u001b[38;5;241m.\u001b[39msum()\n\u001b[1;32m      3\u001b[0m \u001b[38;5;66;03m# Count rows where neither column is NaN (split)\u001b[39;00m\n\u001b[1;32m      4\u001b[0m neither_nan_count \u001b[38;5;241m=\u001b[39m ((property_df[\u001b[38;5;124m'\u001b[39m\u001b[38;5;124mHeat_Pump_Heating_Flow_Temperature\u001b[39m\u001b[38;5;124m'\u001b[39m]\u001b[38;5;241m.\u001b[39mnotna()) \u001b[38;5;241m&\u001b[39m (property_df[\u001b[38;5;124m'\u001b[39m\u001b[38;5;124mHot_Water_Flow_Temperature\u001b[39m\u001b[38;5;124m'\u001b[39m]\u001b[38;5;241m.\u001b[39mnotna()))\u001b[38;5;241m.\u001b[39msum()\n",
      "File \u001b[0;32m~/opt/anaconda3/lib/python3.9/site-packages/pandas/core/frame.py:3505\u001b[0m, in \u001b[0;36mDataFrame.__getitem__\u001b[0;34m(self, key)\u001b[0m\n\u001b[1;32m   3503\u001b[0m \u001b[38;5;28;01mif\u001b[39;00m \u001b[38;5;28mself\u001b[39m\u001b[38;5;241m.\u001b[39mcolumns\u001b[38;5;241m.\u001b[39mnlevels \u001b[38;5;241m>\u001b[39m \u001b[38;5;241m1\u001b[39m:\n\u001b[1;32m   3504\u001b[0m     \u001b[38;5;28;01mreturn\u001b[39;00m \u001b[38;5;28mself\u001b[39m\u001b[38;5;241m.\u001b[39m_getitem_multilevel(key)\n\u001b[0;32m-> 3505\u001b[0m indexer \u001b[38;5;241m=\u001b[39m \u001b[38;5;28;43mself\u001b[39;49m\u001b[38;5;241;43m.\u001b[39;49m\u001b[43mcolumns\u001b[49m\u001b[38;5;241;43m.\u001b[39;49m\u001b[43mget_loc\u001b[49m\u001b[43m(\u001b[49m\u001b[43mkey\u001b[49m\u001b[43m)\u001b[49m\n\u001b[1;32m   3506\u001b[0m \u001b[38;5;28;01mif\u001b[39;00m is_integer(indexer):\n\u001b[1;32m   3507\u001b[0m     indexer \u001b[38;5;241m=\u001b[39m [indexer]\n",
      "File \u001b[0;32m~/opt/anaconda3/lib/python3.9/site-packages/pandas/core/indexes/base.py:3623\u001b[0m, in \u001b[0;36mIndex.get_loc\u001b[0;34m(self, key, method, tolerance)\u001b[0m\n\u001b[1;32m   3621\u001b[0m     \u001b[38;5;28;01mreturn\u001b[39;00m \u001b[38;5;28mself\u001b[39m\u001b[38;5;241m.\u001b[39m_engine\u001b[38;5;241m.\u001b[39mget_loc(casted_key)\n\u001b[1;32m   3622\u001b[0m \u001b[38;5;28;01mexcept\u001b[39;00m \u001b[38;5;167;01mKeyError\u001b[39;00m \u001b[38;5;28;01mas\u001b[39;00m err:\n\u001b[0;32m-> 3623\u001b[0m     \u001b[38;5;28;01mraise\u001b[39;00m \u001b[38;5;167;01mKeyError\u001b[39;00m(key) \u001b[38;5;28;01mfrom\u001b[39;00m \u001b[38;5;21;01merr\u001b[39;00m\n\u001b[1;32m   3624\u001b[0m \u001b[38;5;28;01mexcept\u001b[39;00m \u001b[38;5;167;01mTypeError\u001b[39;00m:\n\u001b[1;32m   3625\u001b[0m     \u001b[38;5;66;03m# If we have a listlike key, _check_indexing_error will raise\u001b[39;00m\n\u001b[1;32m   3626\u001b[0m     \u001b[38;5;66;03m#  InvalidIndexError. Otherwise we fall through and re-raise\u001b[39;00m\n\u001b[1;32m   3627\u001b[0m     \u001b[38;5;66;03m#  the TypeError.\u001b[39;00m\n\u001b[1;32m   3628\u001b[0m     \u001b[38;5;28mself\u001b[39m\u001b[38;5;241m.\u001b[39m_check_indexing_error(key)\n",
      "\u001b[0;31mKeyError\u001b[0m: 'Hot_Water_Flow_Temperature'"
     ]
    }
   ],
   "source": [
    "# Count rows where both DHW and SH temperature columns are NaN\n",
    "both_nan_count = ((property_df['Heat_Pump_Heating_Flow_Temperature'].isna()) & (property_df['Hot_Water_Flow_Temperature'].isna())).sum()\n",
    "# Count rows where neither column is NaN (split)\n",
    "neither_nan_count = ((property_df['Heat_Pump_Heating_Flow_Temperature'].notna()) & (property_df['Hot_Water_Flow_Temperature'].notna())).sum()\n",
    "print(\"Count of rows where both columns are NaN:\", both_nan_count, \"\\nCount of rows where neither column is NaN:\", neither_nan_count)\n",
    "# Property ID 0003, property_df.head(30)\n",
    "\n",
    "# Create a dataframe that takes away the rows where it is ambiguous wether heat goes to water or to space heating\n",
    "property_df = property_df[~((property_df['Heat_Pump_Heating_Flow_Temperature'].isna()) & (property_df['Hot_Water_Flow_Temperature'].isna())) & ~((property_df['Heat_Pump_Heating_Flow_Temperature'].notna()) & (property_df['Hot_Water_Flow_Temperature'].notna()))]\n",
    "\n",
    "# Initialize the new columns with NaN values\n",
    "property_df['SH_HP_power_output'] = np.nan\n",
    "property_df['DHW_HP_power_output'] = np.nan\n",
    "\n",
    "# Assign values based on conditions\n",
    "property_df.loc[property_df['Heat_Pump_Heating_Flow_Temperature'].notna(), 'SH_HP_power_cons'] = property_df['delta_HP_Consumption']\n",
    "property_df.loc[property_df['Hot_Water_Flow_Temperature'].notna(), 'DHW_HP_power_cons'] = property_df['delta_HP_Consumption']\n"
   ]
  },
  {
   "cell_type": "code",
   "execution_count": null,
   "id": "590ad965",
   "metadata": {
    "scrolled": true
   },
   "outputs": [],
   "source": [
    "# Now convert to time the start and end times of the clean data window indicated by the govt in the performance file\n",
    "property_performance['Selected_window_start'] = pd.to_datetime(property_performance['Selected_window_start'], format='%d/%m/%Y').dt.date\n",
    "property_performance['Selected_window_end'] = pd.to_datetime(property_performance['Selected_window_end'], format='%d/%m/%Y').dt.date\n",
    "start_date = property_performance['Selected_window_start'].iloc[0]\n",
    "end_date = property_performance['Selected_window_end'].iloc[0]\n",
    "window_df = property_df[(property_df['Date'] >= start_date) & (property_df['Date'] <= end_date)]\n",
    "#window_df.delta_HP_Consumption.hist()\n",
    "\n",
    "print(start_date, end_date)"
   ]
  },
  {
   "cell_type": "code",
   "execution_count": null,
   "id": "2b59a067",
   "metadata": {},
   "outputs": [],
   "source": [
    "data_year = pd.DataFrame()\n",
    "data_CD = pd.DataFrame()\n",
    "data_winter = pd.DataFrame()\n",
    "\n",
    "consumption_data_year = get_period_consumption(window_df)\n",
    "data_year = data_year.append(consumption_data_year, ignore_index=True)\n",
    "\n",
    "''' \n",
    "consumption_data_winter = get_period_consumption(winter_df)\n",
    "data_winter = data_winter.append(consumption_data_winter, ignore_index=True)\n",
    "consumption_data_CD = get_period_consumption(cold_window)\n",
    "data_CD = data_CD.append(consumption_data_CD, ignore_index=True)\n",
    "'''\n",
    "\n",
    "data_year"
   ]
  },
  {
   "cell_type": "code",
   "execution_count": 120,
   "id": "f3d21d28",
   "metadata": {},
   "outputs": [
    {
     "data": {
      "text/plain": [
       "<AxesSubplot:>"
      ]
     },
     "execution_count": 120,
     "metadata": {},
     "output_type": "execute_result"
    },
    {
     "data": {
      "image/png": "[encoded data removed]",
      "text/plain": [
       "<Figure size 432x288 with 1 Axes>"
      ]
     },
     "metadata": {
      "needs_background": "light"
     },
     "output_type": "display_data"
    }
   ],
   "source": [
    "# Calculate the average SPFH2,3,4 over the year\n",
    "avg_SPFH2, avg_SPFH3, avg_SPFH4 = get_SPFn(window_df) \n",
    "\n",
    "# Group all window data in 30 minutes\n",
    "window_df = window_df.set_index('Timestamp')\n",
    "window_df = window_df.resample('30T').mean()\n",
    "window_df = window_df.reset_index()\n",
    "window_df['Time'] = window_df['Timestamp'].dt.time\n",
    "\n",
    "# Calculate instantaneous SPFHn\n",
    "window_df = get_inst_SPFHn(window_df) \n",
    "\n",
    "window_df.delta_HP_Consumption.hist()\n"
   ]
  },
  {
   "cell_type": "code",
   "execution_count": 121,
   "id": "f82c4466",
   "metadata": {},
   "outputs": [
    {
     "name": "stdout",
     "output_type": "stream",
     "text": [
      "DHW_energy_year_kWh 488.9048974359096 kWh\n",
      "SH_energy_year_kWh 5609.121670347738 kWh\n",
      "Tot heat output bw the two: 6098.026567783647\n",
      "6712.179704761904\n"
     ]
    }
   ],
   "source": [
    "valid_rows = window_df['DHW_HP_power_cons'].notna()  # Boolean series indicating rows where the value is not NaN\n",
    "valid_data = window_df.loc[valid_rows]  # Select the rows where the value is not NaN\n",
    "DHW_energy_year_kWh = (valid_data['SH_HP_power_cons'] / 2).sum()\n",
    "\n",
    "valid_rows = window_df['SH_HP_power_cons'].notna()  # Boolean series indicating rows where the value is not NaN\n",
    "valid_data = window_df.loc[valid_rows]  # Select the rows where the value is not NaN\n",
    "SH_energy_year_kWh = (valid_data['SH_HP_power_cons'] / 2).sum()\n",
    "\n",
    "print('DHW_energy_year_kWh',DHW_energy_year_kWh, 'kWh')\n",
    "print('SH_energy_year_kWh', SH_energy_year_kWh, 'kWh')\n",
    "print('Tot heat output bw the two:', DHW_energy_year_kWh + SH_energy_year_kWh)\n",
    "print(window_df['HP_Consumption'].iloc[-1]-window_df['HP_Consumption'].iloc[0])\n",
    "\n",
    "# EOH0003 DHW_energy_year 22.59 kWh, SH 79,861.59 kWh\n"
   ]
  },
  {
   "cell_type": "markdown",
   "id": "3ba6ca95",
   "metadata": {},
   "source": [
    "# 2. Plot the typical daily profile of the year and season"
   ]
  },
  {
   "cell_type": "code",
   "execution_count": 122,
   "id": "437d364e",
   "metadata": {},
   "outputs": [
    {
     "data": {
      "image/png": "[encoded data removed]",
      "text/plain": [
       "<Figure size 432x288 with 1 Axes>"
      ]
     },
     "metadata": {
      "needs_background": "light"
     },
     "output_type": "display_data"
    },
    {
     "name": "stdout",
     "output_type": "stream",
     "text": [
      "Max avarage power 2.0 kW compared to Hybrid of size 4.0 kW.\n"
     ]
    }
   ],
   "source": [
    "# Now we want to find the mean HP power (and temperature etc) of the whole year, at the selected time of the day\n",
    "cols_mean = [column for column in columns_to_mean + ['SPFH2_instantaneous', 'SPFH3_instantaneous', 'SPFH4_instantaneous', 'SH_HP_power_cons', 'DHW_HP_power_cons'] if column in window_df.keys()]\n",
    "mean_df = window_df.groupby('Time')[cols_mean].mean().reset_index()\n",
    "mean_df['Time'] = pd.to_datetime(mean_df['Time'], format='%H:%M:%S')\n",
    "mean_df=get_house_info(mean_df, property_ID, merged_df, avg_SPFH2, avg_SPFH3, avg_SPFH4)\n",
    "\n",
    "plt.plot(mean_df['Time'], mean_df['delta_HP_Consumption'])\n",
    "plt.gca().xaxis.set_major_formatter(mdates.DateFormatter('%H:%M'))\n",
    "plt.xlabel('Time')\n",
    "plt.ylabel('HP_kW_Consumption Power [kW]')\n",
    "plt.title('Mean power in a Day - averaged over the whole year window time - {}'.format(property_ID))\n",
    "plt.tight_layout()\n",
    "plt.show()\n",
    "print('Max avarage power',round(mean_df['delta_HP_Consumption'].max(),1), 'kW compared to', mean_df['HP_Installed'].iloc[0],'of size', HP_size, 'kW.')\n"
   ]
  },
  {
   "cell_type": "code",
   "execution_count": null,
   "id": "21e93dc1",
   "metadata": {},
   "outputs": [],
   "source": []
  },
  {
   "cell_type": "code",
   "execution_count": 123,
   "id": "f2b5a1a3",
   "metadata": {},
   "outputs": [
    {
     "data": {
      "image/png": "[encoded data removed]",
      "text/plain": [
       "<Figure size 432x288 with 1 Axes>"
      ]
     },
     "metadata": {
      "needs_background": "light"
     },
     "output_type": "display_data"
    },
    {
     "name": "stdout",
     "output_type": "stream",
     "text": [
      "Max average power: 3.6 kW compared to Hybrid of size 4.0 kW.\n"
     ]
    }
   ],
   "source": [
    "plt.plot(mean_df['Time'], mean_df['SH_HP_power_cons'], label='SH_HP_power_cons')\n",
    "plt.plot(mean_df['Time'], mean_df['DHW_HP_power_cons']+mean_df['SH_HP_power_cons'], label='DHW + SH HP_power_cons')\n",
    "plt.gca().xaxis.set_major_formatter(mdates.DateFormatter('%H:%M'))\n",
    "plt.xlabel('Time')\n",
    "plt.ylabel('HP Power [kW]')\n",
    "plt.title('Mean Power in a Day - Averaged over the Whole Year Window Time - {}'.format(property_ID))\n",
    "plt.tight_layout()\n",
    "plt.legend()\n",
    "plt.show()\n",
    "\n",
    "max_avg_power = round(mean_df[['SH_HP_power_cons', 'DHW_HP_power_cons']].max().max(), 1)\n",
    "hp_installed = mean_df['HP_Installed'].iloc[0]\n",
    "print('Max average power:', max_avg_power, 'kW compared to', hp_installed, 'of size', HP_size, 'kW.')"
   ]
  },
  {
   "cell_type": "code",
   "execution_count": null,
   "id": "ef94de9a",
   "metadata": {},
   "outputs": [],
   "source": []
  },
  {
   "cell_type": "code",
   "execution_count": 124,
   "id": "2ea72571",
   "metadata": {},
   "outputs": [],
   "source": [
    "# Group the window dataframe based on date, to allocate data with the correspondnig season \n",
    "window_df['Date'] = window_df['Timestamp'].dt.date\n",
    "window_df['Date'] = pd.to_datetime(window_df['Date'], format='%Y-%m-%d')\n",
    "\n",
    "winter_df = window_df[(pd.DatetimeIndex(window_df['Date']).month.isin([12, 1, 2]))]\n",
    "spring_df = window_df[(pd.DatetimeIndex(window_df['Date']).month.isin([3, 4, 5]))]\n",
    "summer_df = window_df[(pd.DatetimeIndex(window_df['Date']).month.isin([6, 7, 8]))]\n",
    "autumn_df = window_df[(pd.DatetimeIndex(window_df['Date']).month.isin([9, 10, 11]))]\n",
    "seasons = {'winter': winter_df, 'spring': spring_df, 'summer': summer_df, 'autumn': autumn_df}\n"
   ]
  },
  {
   "cell_type": "code",
   "execution_count": 125,
   "id": "c259a900",
   "metadata": {
    "scrolled": true
   },
   "outputs": [
    {
     "data": {
      "image/png": "[encoded data removed]",
      "text/plain": [
       "<Figure size 432x288 with 1 Axes>"
      ]
     },
     "metadata": {
      "needs_background": "light"
     },
     "output_type": "display_data"
    }
   ],
   "source": [
    "fig, ax = plt.subplots()\n",
    "for season, df in seasons.items():\n",
    "    mean_df = df.groupby('Time')[cols_mean].mean().reset_index()\n",
    "    mean_df['Time'] = pd.to_datetime(mean_df['Time'], format='%H:%M:%S')\n",
    "    mean_df=get_house_info(mean_df, property_ID, merged_df, avg_SPFH2, avg_SPFH3, avg_SPFH4)\n",
    "\n",
    "    ax.plot(mean_df['Time'], mean_df['delta_HP_Consumption'], label=season )\n",
    "    ax.xaxis.set_major_formatter(mdates.DateFormatter('%H:%M'))\n",
    "    ax.set_xlabel('Time')\n",
    "    ax.set_ylabel('HP_kW_Consumption Power Consumption [kW]')\n",
    "    ax.set_title('Mean power in a {} day'.format(season))\n",
    "plt.tight_layout()\n",
    "plt.legend()\n",
    "plt.show()\n",
    "\n",
    "# Why does autumn of EOH0021 have such high peaks?  "
   ]
  },
  {
   "cell_type": "code",
   "execution_count": null,
   "id": "13880b35",
   "metadata": {},
   "outputs": [],
   "source": []
  },
  {
   "cell_type": "code",
   "execution_count": 126,
   "id": "183e493a",
   "metadata": {},
   "outputs": [
    {
     "data": {
      "image/png": "[encoded data removed]",
      "text/plain": [
       "<Figure size 432x288 with 1 Axes>"
      ]
     },
     "metadata": {
      "needs_background": "light"
     },
     "output_type": "display_data"
    },
    {
     "name": "stdout",
     "output_type": "stream",
     "text": [
      "Max average power: 3.6 kW compared to Hybrid of size 4.0 kW.\n"
     ]
    }
   ],
   "source": [
    "winter_df_water = winter_df.groupby('Time')[cols_mean].mean().reset_index()\n",
    "winter_df_water['Time'] = pd.to_datetime(winter_df_water['Time'], format='%H:%M:%S')\n",
    "#winter_df_water=get_house_info(winter_df_water, property_ID, merged_df, avg_SPFH2, avg_SPFH3, avg_SPFH4)\n",
    "\n",
    "plt.plot(winter_df_water['Time'], winter_df_water['SH_HP_power_cons'], label='SH_HP_power_cons')\n",
    "plt.plot(winter_df_water['Time'], winter_df_water['DHW_HP_power_cons']+winter_df_water['SH_HP_power_cons'], label='DHW + SH HP_power_cons')\n",
    "plt.gca().xaxis.set_major_formatter(mdates.DateFormatter('%H:%M'))\n",
    "plt.xlabel('Time')\n",
    "plt.ylabel('HP Power [kW]')\n",
    "plt.title('Mean Power in a Day - Averaged over the Whole Year Window Time - {}'.format(property_ID))\n",
    "plt.tight_layout()\n",
    "plt.legend()\n",
    "plt.show()\n",
    "\n",
    "max_avg_power = round(mean_df[['SH_HP_power_cons', 'DHW_HP_power_cons']].max().max(), 1)\n",
    "hp_installed = mean_df['HP_Installed'].iloc[0]\n",
    "print('Max average power:', max_avg_power, 'kW compared to', hp_installed, 'of size', HP_size, 'kW.')"
   ]
  },
  {
   "cell_type": "code",
   "execution_count": null,
   "id": "62700861",
   "metadata": {},
   "outputs": [],
   "source": []
  },
  {
   "cell_type": "markdown",
   "id": "bfc40a75",
   "metadata": {},
   "source": [
    "# Meeting with Philipp\n",
    "- Hot water = summer baseline?\n",
    "- Negative readings = PVs?\n",
    "- Find maximum data points to show the peak?"
   ]
  },
  {
   "cell_type": "markdown",
   "id": "baa7d179",
   "metadata": {},
   "source": [
    "# Coldest day analysis"
   ]
  },
  {
   "cell_type": "code",
   "execution_count": 127,
   "id": "be94bb10",
   "metadata": {},
   "outputs": [
    {
     "name": "stdout",
     "output_type": "stream",
     "text": [
      "2021-02-11 00:00:00 2021-02-12 00:00:00\n"
     ]
    }
   ],
   "source": [
    "# Select the coldest day (must convert from dd/mm/YYYY to YYYY-mm-dd) and filter the dataframe\n",
    "property_performance['Coldest_day_start'] = pd.to_datetime(property_performance['Coldest_day_start'], format='%d/%m/%Y %H:%M')\n",
    "property_performance['Coldest_day_end'] = property_performance['Coldest_day_start'] + pd.DateOffset(hours=24)\n",
    "CD_start_date = property_performance['Coldest_day_start'].iloc[0]\n",
    "CD_end_date = property_performance['Coldest_day_end'].iloc[0]\n",
    "\n",
    "print(CD_start_date, CD_end_date)"
   ]
  },
  {
   "cell_type": "code",
   "execution_count": 128,
   "id": "4b965dc8",
   "metadata": {},
   "outputs": [],
   "source": [
    "# Filter the coldest day dataframe, and reconvert datetimes (useful for figure later)\n",
    "window_df['Date'] = window_df['Timestamp'].dt.date\n",
    "cold_window = window_df[(window_df['Date'] >= CD_start_date) & (window_df['Date'] < CD_end_date)]\n",
    "cold_window['Time'] = pd.to_datetime(cold_window['Time'], format='%H:%M:%S')\n"
   ]
  },
  {
   "cell_type": "code",
   "execution_count": 129,
   "id": "123e8be0",
   "metadata": {},
   "outputs": [
    {
     "data": {
      "text/html": [
       "<div>\n",
       "<style scoped>\n",
       "    .dataframe tbody tr th:only-of-type {\n",
       "        vertical-align: middle;\n",
       "    }\n",
       "\n",
       "    .dataframe tbody tr th {\n",
       "        vertical-align: top;\n",
       "    }\n",
       "\n",
       "    .dataframe thead th {\n",
       "        text-align: right;\n",
       "    }\n",
       "</style>\n",
       "<table border=\"1\" class=\"dataframe\">\n",
       "  <thead>\n",
       "    <tr style=\"text-align: right;\">\n",
       "      <th></th>\n",
       "      <th>Timestamp</th>\n",
       "      <th>Circulation_Pump_Energy_Consumed</th>\n",
       "      <th>External_Air_Temperature</th>\n",
       "      <th>Heat_Pump_Energy_Output</th>\n",
       "      <th>Heat_Pump_Heating_Flow_Temperature</th>\n",
       "      <th>Heat_Pump_Return_Temperature</th>\n",
       "      <th>Hot_Water_Flow_Temperature</th>\n",
       "      <th>Immersion_Heater_Energy_Consumed</th>\n",
       "      <th>Internal_Air_Temperature</th>\n",
       "      <th>Whole_System_Energy_Consumed</th>\n",
       "      <th>...</th>\n",
       "      <th>delta_HP_Consumption</th>\n",
       "      <th>SH_HP_power_output</th>\n",
       "      <th>DHW_HP_power_output</th>\n",
       "      <th>SH_HP_power_cons</th>\n",
       "      <th>DHW_HP_power_cons</th>\n",
       "      <th>Time</th>\n",
       "      <th>SPFH2_instantaneous</th>\n",
       "      <th>SPFH3_instantaneous</th>\n",
       "      <th>SPFH4_instantaneous</th>\n",
       "      <th>Date</th>\n",
       "    </tr>\n",
       "  </thead>\n",
       "  <tbody>\n",
       "  </tbody>\n",
       "</table>\n",
       "<p>0 rows × 26 columns</p>\n",
       "</div>"
      ],
      "text/plain": [
       "Empty DataFrame\n",
       "Columns: [Timestamp, Circulation_Pump_Energy_Consumed, External_Air_Temperature, Heat_Pump_Energy_Output, Heat_Pump_Heating_Flow_Temperature, Heat_Pump_Return_Temperature, Hot_Water_Flow_Temperature, Immersion_Heater_Energy_Consumed, Internal_Air_Temperature, Whole_System_Energy_Consumed, time_diff_seconds, HP_Consumption, delta_Circulation_Pump_Energy_Consumed, delta_Heat_Pump_Energy_Output, delta_Immersion_Heater_Energy_Consumed, delta_Whole_System_Energy_Consumed, delta_HP_Consumption, SH_HP_power_output, DHW_HP_power_output, SH_HP_power_cons, DHW_HP_power_cons, Time, SPFH2_instantaneous, SPFH3_instantaneous, SPFH4_instantaneous, Date]\n",
       "Index: []\n",
       "\n",
       "[0 rows x 26 columns]"
      ]
     },
     "execution_count": 129,
     "metadata": {},
     "output_type": "execute_result"
    }
   ],
   "source": [
    "cold_window"
   ]
  },
  {
   "cell_type": "code",
   "execution_count": null,
   "id": "657c143a",
   "metadata": {},
   "outputs": [],
   "source": []
  },
  {
   "cell_type": "code",
   "execution_count": null,
   "id": "6c77c078",
   "metadata": {},
   "outputs": [],
   "source": []
  },
  {
   "cell_type": "code",
   "execution_count": 28,
   "id": "7f02288a",
   "metadata": {},
   "outputs": [
    {
     "data": {
      "text/html": [
       "<div>\n",
       "<style scoped>\n",
       "    .dataframe tbody tr th:only-of-type {\n",
       "        vertical-align: middle;\n",
       "    }\n",
       "\n",
       "    .dataframe tbody tr th {\n",
       "        vertical-align: top;\n",
       "    }\n",
       "\n",
       "    .dataframe thead th {\n",
       "        text-align: right;\n",
       "    }\n",
       "</style>\n",
       "<table border=\"1\" class=\"dataframe\">\n",
       "  <thead>\n",
       "    <tr style=\"text-align: right;\">\n",
       "      <th></th>\n",
       "      <th>Timestamp</th>\n",
       "      <th>Circulation_Pump_Energy_Consumed</th>\n",
       "      <th>External_Air_Temperature</th>\n",
       "      <th>Heat_Pump_Energy_Output</th>\n",
       "      <th>Heat_Pump_Heating_Flow_Temperature</th>\n",
       "      <th>Heat_Pump_Return_Temperature</th>\n",
       "      <th>Hot_Water_Flow_Temperature</th>\n",
       "      <th>Immersion_Heater_Energy_Consumed</th>\n",
       "      <th>Internal_Air_Temperature</th>\n",
       "      <th>Whole_System_Energy_Consumed</th>\n",
       "      <th>...</th>\n",
       "      <th>SPFH2</th>\n",
       "      <th>SPFH3</th>\n",
       "      <th>SPFH4</th>\n",
       "      <th>avg_CD_SPFH2</th>\n",
       "      <th>avg_CD_SPFH3</th>\n",
       "      <th>avg_CD_SPFH4</th>\n",
       "      <th>min_Internal_Air_Temperature</th>\n",
       "      <th>max_HP_power_cons</th>\n",
       "      <th>max_whole_system_power_cons</th>\n",
       "      <th>CD_six_pm_temp</th>\n",
       "    </tr>\n",
       "  </thead>\n",
       "  <tbody>\n",
       "  </tbody>\n",
       "</table>\n",
       "<p>0 rows × 43 columns</p>\n",
       "</div>"
      ],
      "text/plain": [
       "Empty DataFrame\n",
       "Columns: [Timestamp, Circulation_Pump_Energy_Consumed, External_Air_Temperature, Heat_Pump_Energy_Output, Heat_Pump_Heating_Flow_Temperature, Heat_Pump_Return_Temperature, Hot_Water_Flow_Temperature, Immersion_Heater_Energy_Consumed, Internal_Air_Temperature, Whole_System_Energy_Consumed, time_diff_seconds, HP_Consumption, delta_Circulation_Pump_Energy_Consumed, delta_Heat_Pump_Energy_Output, delta_Immersion_Heater_Energy_Consumed, delta_Whole_System_Energy_Consumed, delta_HP_Consumption, SH_HP_power_output, DHW_HP_power_output, SH_HP_power_cons, DHW_HP_power_cons, Time, SPFH2_instantaneous, SPFH3_instantaneous, SPFH4_instantaneous, Date, Property_ID, House_SAP, MCS_SHLoad, MCS_Hloss, Total_Floor_Area, MCS_tot_Hloss_kW, HP_Installed, SPFH2, SPFH3, SPFH4, avg_CD_SPFH2, avg_CD_SPFH3, avg_CD_SPFH4, min_Internal_Air_Temperature, max_HP_power_cons, max_whole_system_power_cons, CD_six_pm_temp]\n",
       "Index: []\n",
       "\n",
       "[0 rows x 43 columns]"
      ]
     },
     "execution_count": 28,
     "metadata": {},
     "output_type": "execute_result"
    }
   ],
   "source": [
    "no6pm_count = 0\n",
    "avg_CD_SPFH2, avg_CD_SPFH3, avg_CD_SPFH4 = get_SPFn(cold_window) \n",
    "cold_window=get_house_info(cold_window, property_ID, merged_df, avg_SPFH2, avg_SPFH3, avg_SPFH4)\n",
    "cold_window['avg_CD_SPFH2'] = avg_CD_SPFH2 \n",
    "cold_window['avg_CD_SPFH3'] = avg_CD_SPFH3 \n",
    "cold_window['avg_CD_SPFH4'] = avg_CD_SPFH4 \n",
    "cold_window['min_Internal_Air_Temperature']= cold_window['Internal_Air_Temperature'].min()\n",
    "cold_window['max_HP_power_cons'] = cold_window['delta_HP_Consumption'].max()\n",
    "cold_window['max_whole_system_power_cons'] = cold_window['delta_Whole_System_Energy_Consumed'].max()\n",
    "cold_window, no6pm_count = get_6pm_CD_temp(cold_window, no6pm_count)\n",
    "\n",
    "cold_window"
   ]
  },
  {
   "cell_type": "code",
   "execution_count": null,
   "id": "38619c5d",
   "metadata": {},
   "outputs": [],
   "source": [
    "# Plot of the coldest day HP consumption and temperature - should I plot whole system consumption instead, to see stress on grid including all electricity contributions?\n",
    "fig, ax1 = plt.subplots()\n",
    "\n",
    "ax1.plot(cold_window['Time'], cold_window['delta_HP_Consumption'], color='tab:red', label='delta_HP_Consumption')\n",
    "ax1.set_xlabel('Time')\n",
    "ax1.set_ylabel('delta_HP_Consumption Power [kW]', color='tab:red')\n",
    "ax1.tick_params(axis='y', labelcolor='tab:red')\n",
    "ax1.xaxis.set_major_formatter(mdates.DateFormatter('%H:%M'))\n",
    "\n",
    "ax2 = ax1.twinx()\n",
    "ax2.plot(cold_window['Time'], cold_window['Internal_Air_Temperature'], color='tab:blue', label='Internal_Air_Temperature')\n",
    "ax2.set_ylabel('Internal_Air_Temperature [°C]', color='tab:blue')\n",
    "ax2.tick_params(axis='y', labelcolor='tab:blue')\n",
    "\n",
    "plt.title('Power and Temperature in the coldest Day for - {}'.format(property_ID))\n",
    "plt.tight_layout()\n",
    "plt.show()\n"
   ]
  },
  {
   "cell_type": "code",
   "execution_count": null,
   "id": "556ad2cb",
   "metadata": {},
   "outputs": [],
   "source": [
    "consumption_data_CD = get_period_consumption(cold_window)\n",
    "consumption_data_CD['Property_ID'] = property_ID\n",
    "consumption_data_CD"
   ]
  },
  {
   "cell_type": "code",
   "execution_count": null,
   "id": "8e4a8972",
   "metadata": {},
   "outputs": [],
   "source": [
    "max_energy_consumed = cold_window['delta_Whole_System_Energy_Consumed'].max()\n",
    "time_of_max_WS_power= cold_window.loc[cold_window['delta_Whole_System_Energy_Consumed'].idxmax(), 'Time']\n",
    "heat_output=cold_window.loc[cold_window['delta_Whole_System_Energy_Consumed'].idxmax(), 'delta_Heat_Pump_Energy_Output']\n",
    "\n",
    "max_HP_power = cold_window['delta_HP_Consumption'].max()\n",
    "time_of_max_HP_power= cold_window.loc[cold_window['delta_HP_Consumption'].idxmax(), 'Time']\n",
    "HP_consump_at_max_WS_power= cold_window.loc[cold_window['delta_Whole_System_Energy_Consumed'].idxmax(), 'delta_HP_Consumption']\n",
    "\n",
    "print('HP size:', HP_size, 'kW')\n",
    "print('max whole system power consumed', round(max_energy_consumed,2), 'kW, at which point the HP consumes', round(HP_consump_at_max_WS_power,2), 'kW, occuring at', time_of_max_WS_power, '. The heat output is kW', round(heat_output,2) )\n",
    "print('Max HP power', round(max_HP_power,2) ,'kW at time', time_of_max_HP_power)\n"
   ]
  },
  {
   "cell_type": "code",
   "execution_count": null,
   "id": "643a9399",
   "metadata": {},
   "outputs": [],
   "source": [
    "# Retrive MCS heat loss calculation, HP type etc.\n",
    "cold_window['MCS_Hloss'] = merged_df['MCS_Hloss'].iloc[0] # NEW\n",
    "cold_window['Total_Floor_Area'] = merged_df['Total_Floor_Area'].iloc[0] # NEW\n",
    "cold_window['MCS_tot_Hloss_kW'] = ( round((cold_window['MCS_Hloss']*cold_window['Total_Floor_Area'])/1000 ,3)) # NEW\n",
    "cold_window['HP_Installed'] = merged_df['HP_Installed'].iloc[0] # NEW\n",
    "\n",
    "min_indoor_temp = cold_window['Internal_Air_Temperature'].min()\n",
    "cold_window['min_Internal_Air_Temperature']= cold_window['Internal_Air_Temperature'].min()\n",
    "cold_window['max_whole_system_power_cons'] = cold_window['delta_Whole_System_Energy_Consumed'].max()\n",
    "cold_window['max_HP_power_cons'] = cold_window['delta_HP_Consumption'].max()\n",
    "\n",
    "cold_window"
   ]
  },
  {
   "cell_type": "code",
   "execution_count": null,
   "id": "a4532479",
   "metadata": {},
   "outputs": [],
   "source": []
  },
  {
   "cell_type": "code",
   "execution_count": null,
   "id": "9cd7719c",
   "metadata": {},
   "outputs": [],
   "source": []
  },
  {
   "cell_type": "code",
   "execution_count": null,
   "id": "c6bf7e1d",
   "metadata": {},
   "outputs": [],
   "source": []
  },
  {
   "cell_type": "code",
   "execution_count": null,
   "id": "6027c2d0",
   "metadata": {},
   "outputs": [],
   "source": []
  }
 ],
 "metadata": {
  "kernelspec": {
   "display_name": "Python 3 (ipykernel)",
   "language": "python",
   "name": "python3"
  },
  "language_info": {
   "codemirror_mode": {
    "name": "ipython",
    "version": 3
   },
   "file_extension": ".py",
   "mimetype": "text/x-python",
   "name": "python",
   "nbconvert_exporter": "python",
   "pygments_lexer": "ipython3",
   "version": "3.9.12"
  }
 },
 "nbformat": 4,
 "nbformat_minor": 5
}
